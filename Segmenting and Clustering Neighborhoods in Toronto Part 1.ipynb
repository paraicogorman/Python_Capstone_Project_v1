{
    "cells": [
        {
            "metadata": {},
            "cell_type": "markdown",
            "source": "Download all the required packages"
        },
        {
            "metadata": {},
            "cell_type": "code",
            "source": "! pip install bs4\n!pip install lxml\n!pip install html5lib",
            "execution_count": 10,
            "outputs": [
                {
                    "output_type": "stream",
                    "text": "Requirement already satisfied: bs4 in /opt/conda/envs/Python-3.7-main/lib/python3.7/site-packages (0.0.1)\nRequirement already satisfied: beautifulsoup4 in /opt/conda/envs/Python-3.7-main/lib/python3.7/site-packages (from bs4) (4.9.1)\nRequirement already satisfied: soupsieve>1.2 in /opt/conda/envs/Python-3.7-main/lib/python3.7/site-packages (from beautifulsoup4->bs4) (2.0.1)\nRequirement already satisfied: lxml in /opt/conda/envs/Python-3.7-main/lib/python3.7/site-packages (4.5.1)\nRequirement already satisfied: html5lib in /opt/conda/envs/Python-3.7-main/lib/python3.7/site-packages (1.1)\nRequirement already satisfied: six>=1.9 in /opt/conda/envs/Python-3.7-main/lib/python3.7/site-packages (from html5lib) (1.15.0)\nRequirement already satisfied: webencodings in /opt/conda/envs/Python-3.7-main/lib/python3.7/site-packages (from html5lib) (0.5.1)\n",
                    "name": "stdout"
                }
            ]
        },
        {
            "metadata": {},
            "cell_type": "code",
            "source": "from bs4 import BeautifulSoup \nimport requests\nimport lxml\nimport pandas as pd\nimport numpy as np\nimport html5lib\nimport io",
            "execution_count": 3,
            "outputs": []
        },
        {
            "metadata": {},
            "cell_type": "markdown",
            "source": "Scrape Wikipedia for data <br>\nImport location data from cvs online"
        },
        {
            "metadata": {},
            "cell_type": "code",
            "source": "html=requests.get('https://en.wikipedia.org/wiki/List_of_postal_codes_of_Canada:_M').text\nurl2 = 'http://cocl.us/Geospatial_data'",
            "execution_count": 4,
            "outputs": []
        },
        {
            "metadata": {},
            "cell_type": "markdown",
            "source": "Format Wikipedia postcode data"
        },
        {
            "metadata": {},
            "cell_type": "code",
            "source": "soup = BeautifulSoup(html, 'html5lib')\ntable = soup.find('table_class',{'class':'navbox'})",
            "execution_count": 5,
            "outputs": []
        },
        {
            "metadata": {},
            "cell_type": "code",
            "source": "table_contents=[]\ntable=soup.find('table')\nfor row in table.findAll('td'):\n    cell = {}\n      \n    if row.span.text=='Not assigned':\n        pass\n    else:\n        cell['PostalCode'] = row.p.text[:3]\n        cell['Borough'] = (row.span.text).split('(')[0]\n        cell['Neighborhood'] = (((((row.span.text).split('(')[1]).strip(')')).replace(' /',',')).replace(')',' ')).strip(' ')\n        table_contents.append(cell)\n    pass\n\n# print(table_contents)\ndf=pd.DataFrame(table_contents)\ndf['Borough']=df['Borough'].replace({'Downtown TorontoStn A PO Boxes25 The Esplanade':'Downtown Toronto Stn A',\n                                             'East TorontoBusiness reply mail Processing Centre969 Eastern':'East Toronto Business',\n                                             'EtobicokeNorthwest':'Etobicoke Northwest','East YorkEast Toronto':'East York/East Toronto',\n                                             'MississaugaCanada Post Gateway Processing Centre':'Mississauga'})\n",
            "execution_count": 6,
            "outputs": []
        },
        {
            "metadata": {},
            "cell_type": "markdown",
            "source": "Format Location data"
        },
        {
            "metadata": {},
            "cell_type": "code",
            "source": "postcode_table = requests.get(url2).content\npostcode_lat_long = pd.read_csv(io.StringIO(postcode_table .decode('utf-8')))",
            "execution_count": 7,
            "outputs": []
        },
        {
            "metadata": {},
            "cell_type": "markdown",
            "source": "Join Postcode data and location data"
        },
        {
            "metadata": {},
            "cell_type": "code",
            "source": "Toronto = pd.merge(df, postcode_lat_long, left_on = \"PostalCode\", right_on=\"Postal Code\" )\nToronto= Toronto.drop([\"Postal Code\"], axis= 1)",
            "execution_count": 8,
            "outputs": []
        },
        {
            "metadata": {},
            "cell_type": "markdown",
            "source": "Display the Dataframe"
        },
        {
            "metadata": {},
            "cell_type": "code",
            "source": "Toronto",
            "execution_count": 9,
            "outputs": [
                {
                    "output_type": "execute_result",
                    "execution_count": 9,
                    "data": {
                        "text/plain": "    PostalCode                Borough  \\\n0          M3A             North York   \n1          M4A             North York   \n2          M5A       Downtown Toronto   \n3          M6A             North York   \n4          M7A           Queen's Park   \n..         ...                    ...   \n98         M8X              Etobicoke   \n99         M4Y       Downtown Toronto   \n100        M7Y  East Toronto Business   \n101        M8Y              Etobicoke   \n102        M8Z              Etobicoke   \n\n                                          Neighborhood   Latitude  Longitude  \n0                                            Parkwoods  43.753259 -79.329656  \n1                                     Victoria Village  43.725882 -79.315572  \n2                            Regent Park, Harbourfront  43.654260 -79.360636  \n3                     Lawrence Manor, Lawrence Heights  43.718518 -79.464763  \n4                        Ontario Provincial Government  43.662301 -79.389494  \n..                                                 ...        ...        ...  \n98       The Kingsway, Montgomery Road, Old Mill North  43.653654 -79.506944  \n99                                Church and Wellesley  43.665860 -79.383160  \n100                                     Enclave of M4L  43.662744 -79.321558  \n101  Old Mill South, King's Mill Park, Sunnylea, Hu...  43.636258 -79.498509  \n102  Mimico NW, The Queensway West, South of Bloor,...  43.628841 -79.520999  \n\n[103 rows x 5 columns]",
                        "text/html": "<div>\n<style scoped>\n    .dataframe tbody tr th:only-of-type {\n        vertical-align: middle;\n    }\n\n    .dataframe tbody tr th {\n        vertical-align: top;\n    }\n\n    .dataframe thead th {\n        text-align: right;\n    }\n</style>\n<table border=\"1\" class=\"dataframe\">\n  <thead>\n    <tr style=\"text-align: right;\">\n      <th></th>\n      <th>PostalCode</th>\n      <th>Borough</th>\n      <th>Neighborhood</th>\n      <th>Latitude</th>\n      <th>Longitude</th>\n    </tr>\n  </thead>\n  <tbody>\n    <tr>\n      <th>0</th>\n      <td>M3A</td>\n      <td>North York</td>\n      <td>Parkwoods</td>\n      <td>43.753259</td>\n      <td>-79.329656</td>\n    </tr>\n    <tr>\n      <th>1</th>\n      <td>M4A</td>\n      <td>North York</td>\n      <td>Victoria Village</td>\n      <td>43.725882</td>\n      <td>-79.315572</td>\n    </tr>\n    <tr>\n      <th>2</th>\n      <td>M5A</td>\n      <td>Downtown Toronto</td>\n      <td>Regent Park, Harbourfront</td>\n      <td>43.654260</td>\n      <td>-79.360636</td>\n    </tr>\n    <tr>\n      <th>3</th>\n      <td>M6A</td>\n      <td>North York</td>\n      <td>Lawrence Manor, Lawrence Heights</td>\n      <td>43.718518</td>\n      <td>-79.464763</td>\n    </tr>\n    <tr>\n      <th>4</th>\n      <td>M7A</td>\n      <td>Queen's Park</td>\n      <td>Ontario Provincial Government</td>\n      <td>43.662301</td>\n      <td>-79.389494</td>\n    </tr>\n    <tr>\n      <th>...</th>\n      <td>...</td>\n      <td>...</td>\n      <td>...</td>\n      <td>...</td>\n      <td>...</td>\n    </tr>\n    <tr>\n      <th>98</th>\n      <td>M8X</td>\n      <td>Etobicoke</td>\n      <td>The Kingsway, Montgomery Road, Old Mill North</td>\n      <td>43.653654</td>\n      <td>-79.506944</td>\n    </tr>\n    <tr>\n      <th>99</th>\n      <td>M4Y</td>\n      <td>Downtown Toronto</td>\n      <td>Church and Wellesley</td>\n      <td>43.665860</td>\n      <td>-79.383160</td>\n    </tr>\n    <tr>\n      <th>100</th>\n      <td>M7Y</td>\n      <td>East Toronto Business</td>\n      <td>Enclave of M4L</td>\n      <td>43.662744</td>\n      <td>-79.321558</td>\n    </tr>\n    <tr>\n      <th>101</th>\n      <td>M8Y</td>\n      <td>Etobicoke</td>\n      <td>Old Mill South, King's Mill Park, Sunnylea, Hu...</td>\n      <td>43.636258</td>\n      <td>-79.498509</td>\n    </tr>\n    <tr>\n      <th>102</th>\n      <td>M8Z</td>\n      <td>Etobicoke</td>\n      <td>Mimico NW, The Queensway West, South of Bloor,...</td>\n      <td>43.628841</td>\n      <td>-79.520999</td>\n    </tr>\n  </tbody>\n</table>\n<p>103 rows \u00d7 5 columns</p>\n</div>"
                    },
                    "metadata": {}
                }
            ]
        },
        {
            "metadata": {},
            "cell_type": "markdown",
            "source": "Display the shape of the data"
        },
        {
            "metadata": {
                "scrolled": true
            },
            "cell_type": "code",
            "source": "Toronto.shape",
            "execution_count": 10,
            "outputs": [
                {
                    "output_type": "execute_result",
                    "execution_count": 10,
                    "data": {
                        "text/plain": "(103, 5)"
                    },
                    "metadata": {}
                }
            ]
        },
        {
            "metadata": {},
            "cell_type": "markdown",
            "source": "Download Packages required for this Excersise"
        },
        {
            "metadata": {},
            "cell_type": "code",
            "source": "Toronto_merged.loc[Toronto_merged['Cluster Labels'] == 2, Toronto_merged.columns[[1] + list(range(5, Toronto_merged.shape[1]))]]",
            "execution_count": 129,
            "outputs": [
                {
                    "output_type": "execute_result",
                    "execution_count": 129,
                    "data": {
                        "text/plain": "                   Borough  Cluster Labels 1st Most Common Venue  \\\n0               North York             2.0     Food & Drink Shop   \n21                    York             2.0                  Park   \n35  East York/East Toronto             2.0                  Park   \n40              North York             2.0               Airport   \n49              North York             2.0        Massage Studio   \n61         Central Toronto             2.0                  Park   \n64                    York             2.0                  Park   \n66              North York             2.0                  Park   \n68         Central Toronto             2.0                  Park   \n77               Etobicoke             2.0        Sandwich Place   \n85             Scarborough             2.0            Playground   \n91        Downtown Toronto             2.0                  Park   \n\n         2nd Most Common Venue       3rd Most Common Venue  \\\n0                         Park                 Yoga Studio   \n21               Women's Store                        Pool   \n35           Convenience Store                 Yoga Studio   \n40                        Park            Business Service   \n49                        Park  Construction & Landscaping   \n61                    Bus Line                 Swim School   \n64               Jewelry Store                 Yoga Studio   \n66  Construction & Landscaping           Convenience Store   \n68               Jewelry Store            Sushi Restaurant   \n77                        Park           Mobile Phone Shop   \n85                        Park                Intersection   \n91                  Playground                       Trail   \n\n   4th Most Common Venue            5th Most Common Venue  \\\n0      Mobile Phone Shop               Miscellaneous Shop   \n21         Metro Station       Modern European Restaurant   \n35         Metro Station       Modern European Restaurant   \n40           Yoga Studio               Mexican Restaurant   \n49                Bakery                      Yoga Studio   \n61           Yoga Studio                    Metro Station   \n64         Metro Station       Modern European Restaurant   \n66           Yoga Studio               Mexican Restaurant   \n68                 Trail                      Yoga Studio   \n77         Metro Station  Molecular Gastronomy Restaurant   \n85    Mexican Restaurant  Molecular Gastronomy Restaurant   \n91           Yoga Studio                    Metro Station   \n\n              6th Most Common Venue            7th Most Common Venue  \\\n0         Middle Eastern Restaurant               Mexican Restaurant   \n21                Mobile Phone Shop               Miscellaneous Shop   \n35                Mobile Phone Shop               Miscellaneous Shop   \n40  Molecular Gastronomy Restaurant       Modern European Restaurant   \n49        Middle Eastern Restaurant  Molecular Gastronomy Restaurant   \n61                Mobile Phone Shop               Miscellaneous Shop   \n64                Mobile Phone Shop               Miscellaneous Shop   \n66  Molecular Gastronomy Restaurant       Modern European Restaurant   \n68               Mexican Restaurant                Mobile Phone Shop   \n77       Modern European Restaurant               Miscellaneous Shop   \n85       Modern European Restaurant                Mobile Phone Shop   \n91       Modern European Restaurant                Mobile Phone Shop   \n\n         8th Most Common Venue      9th Most Common Venue  \\\n0                Metro Station                Men's Store   \n21   Middle Eastern Restaurant         Mexican Restaurant   \n35   Middle Eastern Restaurant         Mexican Restaurant   \n40           Mobile Phone Shop         Miscellaneous Shop   \n49  Modern European Restaurant          Mobile Phone Shop   \n61   Middle Eastern Restaurant         Mexican Restaurant   \n64   Middle Eastern Restaurant         Mexican Restaurant   \n66           Mobile Phone Shop         Miscellaneous Shop   \n68          Miscellaneous Shop  Middle Eastern Restaurant   \n77   Middle Eastern Restaurant         Mexican Restaurant   \n85          Miscellaneous Shop  Middle Eastern Restaurant   \n91          Miscellaneous Shop  Middle Eastern Restaurant   \n\n       10th Most Common Venue  \n0    Mediterranean Restaurant  \n21   Mediterranean Restaurant  \n35   Mediterranean Restaurant  \n40  Middle Eastern Restaurant  \n49         Miscellaneous Shop  \n61                Men's Store  \n64                Men's Store  \n66  Middle Eastern Restaurant  \n68              Metro Station  \n77                Yoga Studio  \n85                Men's Store  \n91         Mexican Restaurant  ",
                        "text/html": "<div>\n<style scoped>\n    .dataframe tbody tr th:only-of-type {\n        vertical-align: middle;\n    }\n\n    .dataframe tbody tr th {\n        vertical-align: top;\n    }\n\n    .dataframe thead th {\n        text-align: right;\n    }\n</style>\n<table border=\"1\" class=\"dataframe\">\n  <thead>\n    <tr style=\"text-align: right;\">\n      <th></th>\n      <th>Borough</th>\n      <th>Cluster Labels</th>\n      <th>1st Most Common Venue</th>\n      <th>2nd Most Common Venue</th>\n      <th>3rd Most Common Venue</th>\n      <th>4th Most Common Venue</th>\n      <th>5th Most Common Venue</th>\n      <th>6th Most Common Venue</th>\n      <th>7th Most Common Venue</th>\n      <th>8th Most Common Venue</th>\n      <th>9th Most Common Venue</th>\n      <th>10th Most Common Venue</th>\n    </tr>\n  </thead>\n  <tbody>\n    <tr>\n      <th>0</th>\n      <td>North York</td>\n      <td>2.0</td>\n      <td>Food &amp; Drink Shop</td>\n      <td>Park</td>\n      <td>Yoga Studio</td>\n      <td>Mobile Phone Shop</td>\n      <td>Miscellaneous Shop</td>\n      <td>Middle Eastern Restaurant</td>\n      <td>Mexican Restaurant</td>\n      <td>Metro Station</td>\n      <td>Men's Store</td>\n      <td>Mediterranean Restaurant</td>\n    </tr>\n    <tr>\n      <th>21</th>\n      <td>York</td>\n      <td>2.0</td>\n      <td>Park</td>\n      <td>Women's Store</td>\n      <td>Pool</td>\n      <td>Metro Station</td>\n      <td>Modern European Restaurant</td>\n      <td>Mobile Phone Shop</td>\n      <td>Miscellaneous Shop</td>\n      <td>Middle Eastern Restaurant</td>\n      <td>Mexican Restaurant</td>\n      <td>Mediterranean Restaurant</td>\n    </tr>\n    <tr>\n      <th>35</th>\n      <td>East York/East Toronto</td>\n      <td>2.0</td>\n      <td>Park</td>\n      <td>Convenience Store</td>\n      <td>Yoga Studio</td>\n      <td>Metro Station</td>\n      <td>Modern European Restaurant</td>\n      <td>Mobile Phone Shop</td>\n      <td>Miscellaneous Shop</td>\n      <td>Middle Eastern Restaurant</td>\n      <td>Mexican Restaurant</td>\n      <td>Mediterranean Restaurant</td>\n    </tr>\n    <tr>\n      <th>40</th>\n      <td>North York</td>\n      <td>2.0</td>\n      <td>Airport</td>\n      <td>Park</td>\n      <td>Business Service</td>\n      <td>Yoga Studio</td>\n      <td>Mexican Restaurant</td>\n      <td>Molecular Gastronomy Restaurant</td>\n      <td>Modern European Restaurant</td>\n      <td>Mobile Phone Shop</td>\n      <td>Miscellaneous Shop</td>\n      <td>Middle Eastern Restaurant</td>\n    </tr>\n    <tr>\n      <th>49</th>\n      <td>North York</td>\n      <td>2.0</td>\n      <td>Massage Studio</td>\n      <td>Park</td>\n      <td>Construction &amp; Landscaping</td>\n      <td>Bakery</td>\n      <td>Yoga Studio</td>\n      <td>Middle Eastern Restaurant</td>\n      <td>Molecular Gastronomy Restaurant</td>\n      <td>Modern European Restaurant</td>\n      <td>Mobile Phone Shop</td>\n      <td>Miscellaneous Shop</td>\n    </tr>\n    <tr>\n      <th>61</th>\n      <td>Central Toronto</td>\n      <td>2.0</td>\n      <td>Park</td>\n      <td>Bus Line</td>\n      <td>Swim School</td>\n      <td>Yoga Studio</td>\n      <td>Metro Station</td>\n      <td>Mobile Phone Shop</td>\n      <td>Miscellaneous Shop</td>\n      <td>Middle Eastern Restaurant</td>\n      <td>Mexican Restaurant</td>\n      <td>Men's Store</td>\n    </tr>\n    <tr>\n      <th>64</th>\n      <td>York</td>\n      <td>2.0</td>\n      <td>Park</td>\n      <td>Jewelry Store</td>\n      <td>Yoga Studio</td>\n      <td>Metro Station</td>\n      <td>Modern European Restaurant</td>\n      <td>Mobile Phone Shop</td>\n      <td>Miscellaneous Shop</td>\n      <td>Middle Eastern Restaurant</td>\n      <td>Mexican Restaurant</td>\n      <td>Men's Store</td>\n    </tr>\n    <tr>\n      <th>66</th>\n      <td>North York</td>\n      <td>2.0</td>\n      <td>Park</td>\n      <td>Construction &amp; Landscaping</td>\n      <td>Convenience Store</td>\n      <td>Yoga Studio</td>\n      <td>Mexican Restaurant</td>\n      <td>Molecular Gastronomy Restaurant</td>\n      <td>Modern European Restaurant</td>\n      <td>Mobile Phone Shop</td>\n      <td>Miscellaneous Shop</td>\n      <td>Middle Eastern Restaurant</td>\n    </tr>\n    <tr>\n      <th>68</th>\n      <td>Central Toronto</td>\n      <td>2.0</td>\n      <td>Park</td>\n      <td>Jewelry Store</td>\n      <td>Sushi Restaurant</td>\n      <td>Trail</td>\n      <td>Yoga Studio</td>\n      <td>Mexican Restaurant</td>\n      <td>Mobile Phone Shop</td>\n      <td>Miscellaneous Shop</td>\n      <td>Middle Eastern Restaurant</td>\n      <td>Metro Station</td>\n    </tr>\n    <tr>\n      <th>77</th>\n      <td>Etobicoke</td>\n      <td>2.0</td>\n      <td>Sandwich Place</td>\n      <td>Park</td>\n      <td>Mobile Phone Shop</td>\n      <td>Metro Station</td>\n      <td>Molecular Gastronomy Restaurant</td>\n      <td>Modern European Restaurant</td>\n      <td>Miscellaneous Shop</td>\n      <td>Middle Eastern Restaurant</td>\n      <td>Mexican Restaurant</td>\n      <td>Yoga Studio</td>\n    </tr>\n    <tr>\n      <th>85</th>\n      <td>Scarborough</td>\n      <td>2.0</td>\n      <td>Playground</td>\n      <td>Park</td>\n      <td>Intersection</td>\n      <td>Mexican Restaurant</td>\n      <td>Molecular Gastronomy Restaurant</td>\n      <td>Modern European Restaurant</td>\n      <td>Mobile Phone Shop</td>\n      <td>Miscellaneous Shop</td>\n      <td>Middle Eastern Restaurant</td>\n      <td>Men's Store</td>\n    </tr>\n    <tr>\n      <th>91</th>\n      <td>Downtown Toronto</td>\n      <td>2.0</td>\n      <td>Park</td>\n      <td>Playground</td>\n      <td>Trail</td>\n      <td>Yoga Studio</td>\n      <td>Metro Station</td>\n      <td>Modern European Restaurant</td>\n      <td>Mobile Phone Shop</td>\n      <td>Miscellaneous Shop</td>\n      <td>Middle Eastern Restaurant</td>\n      <td>Mexican Restaurant</td>\n    </tr>\n  </tbody>\n</table>\n</div>"
                    },
                    "metadata": {}
                }
            ]
        },
        {
            "metadata": {},
            "cell_type": "code",
            "source": "Toronto_merged.loc[Toronto_merged['Cluster Labels'] == 3, Toronto_merged.columns[[1] + list(range(5, Toronto_merged.shape[1]))]]",
            "execution_count": 124,
            "outputs": [
                {
                    "output_type": "execute_result",
                    "execution_count": 124,
                    "data": {
                        "text/plain": "        Borough  Cluster Labels       1st Most Common Venue  \\\n12  Scarborough             3.0  Construction & Landscaping   \n\n   2nd Most Common Venue 3rd Most Common Venue 4th Most Common Venue  \\\n12                   Bar           Yoga Studio    Mexican Restaurant   \n\n              5th Most Common Venue       6th Most Common Venue  \\\n12  Molecular Gastronomy Restaurant  Modern European Restaurant   \n\n   7th Most Common Venue 8th Most Common Venue      9th Most Common Venue  \\\n12     Mobile Phone Shop    Miscellaneous Shop  Middle Eastern Restaurant   \n\n   10th Most Common Venue  \n12          Metro Station  ",
                        "text/html": "<div>\n<style scoped>\n    .dataframe tbody tr th:only-of-type {\n        vertical-align: middle;\n    }\n\n    .dataframe tbody tr th {\n        vertical-align: top;\n    }\n\n    .dataframe thead th {\n        text-align: right;\n    }\n</style>\n<table border=\"1\" class=\"dataframe\">\n  <thead>\n    <tr style=\"text-align: right;\">\n      <th></th>\n      <th>Borough</th>\n      <th>Cluster Labels</th>\n      <th>1st Most Common Venue</th>\n      <th>2nd Most Common Venue</th>\n      <th>3rd Most Common Venue</th>\n      <th>4th Most Common Venue</th>\n      <th>5th Most Common Venue</th>\n      <th>6th Most Common Venue</th>\n      <th>7th Most Common Venue</th>\n      <th>8th Most Common Venue</th>\n      <th>9th Most Common Venue</th>\n      <th>10th Most Common Venue</th>\n    </tr>\n  </thead>\n  <tbody>\n    <tr>\n      <th>12</th>\n      <td>Scarborough</td>\n      <td>3.0</td>\n      <td>Construction &amp; Landscaping</td>\n      <td>Bar</td>\n      <td>Yoga Studio</td>\n      <td>Mexican Restaurant</td>\n      <td>Molecular Gastronomy Restaurant</td>\n      <td>Modern European Restaurant</td>\n      <td>Mobile Phone Shop</td>\n      <td>Miscellaneous Shop</td>\n      <td>Middle Eastern Restaurant</td>\n      <td>Metro Station</td>\n    </tr>\n  </tbody>\n</table>\n</div>"
                    },
                    "metadata": {}
                }
            ]
        },
        {
            "metadata": {},
            "cell_type": "code",
            "source": "Toronto_merged.loc[Toronto_merged['Cluster Labels'] == 4, Toronto_merged.columns[[1] + list(range(5, Toronto_merged.shape[1]))]]",
            "execution_count": 125,
            "outputs": [
                {
                    "output_type": "execute_result",
                    "execution_count": 125,
                    "data": {
                        "text/plain": "        Borough  Cluster Labels 1st Most Common Venue 2nd Most Common Venue  \\\n6   Scarborough             4.0  Fast Food Restaurant   Monument / Landmark   \n27   North York             4.0  Fast Food Restaurant               Dog Run   \n\n   3rd Most Common Venue 4th Most Common Venue     5th Most Common Venue  \\\n6          Luggage Store                Market       Martial Arts School   \n27                  Pool           Golf Course  Mediterranean Restaurant   \n\n   6th Most Common Venue       7th Most Common Venue  \\\n6         Massage Studio              Medical Center   \n27    Mexican Restaurant  Modern European Restaurant   \n\n       8th Most Common Venue 9th Most Common Venue     10th Most Common Venue  \n6   Mediterranean Restaurant           Men's Store              Metro Station  \n27         Mobile Phone Shop    Miscellaneous Shop  Middle Eastern Restaurant  ",
                        "text/html": "<div>\n<style scoped>\n    .dataframe tbody tr th:only-of-type {\n        vertical-align: middle;\n    }\n\n    .dataframe tbody tr th {\n        vertical-align: top;\n    }\n\n    .dataframe thead th {\n        text-align: right;\n    }\n</style>\n<table border=\"1\" class=\"dataframe\">\n  <thead>\n    <tr style=\"text-align: right;\">\n      <th></th>\n      <th>Borough</th>\n      <th>Cluster Labels</th>\n      <th>1st Most Common Venue</th>\n      <th>2nd Most Common Venue</th>\n      <th>3rd Most Common Venue</th>\n      <th>4th Most Common Venue</th>\n      <th>5th Most Common Venue</th>\n      <th>6th Most Common Venue</th>\n      <th>7th Most Common Venue</th>\n      <th>8th Most Common Venue</th>\n      <th>9th Most Common Venue</th>\n      <th>10th Most Common Venue</th>\n    </tr>\n  </thead>\n  <tbody>\n    <tr>\n      <th>6</th>\n      <td>Scarborough</td>\n      <td>4.0</td>\n      <td>Fast Food Restaurant</td>\n      <td>Monument / Landmark</td>\n      <td>Luggage Store</td>\n      <td>Market</td>\n      <td>Martial Arts School</td>\n      <td>Massage Studio</td>\n      <td>Medical Center</td>\n      <td>Mediterranean Restaurant</td>\n      <td>Men's Store</td>\n      <td>Metro Station</td>\n    </tr>\n    <tr>\n      <th>27</th>\n      <td>North York</td>\n      <td>4.0</td>\n      <td>Fast Food Restaurant</td>\n      <td>Dog Run</td>\n      <td>Pool</td>\n      <td>Golf Course</td>\n      <td>Mediterranean Restaurant</td>\n      <td>Mexican Restaurant</td>\n      <td>Modern European Restaurant</td>\n      <td>Mobile Phone Shop</td>\n      <td>Miscellaneous Shop</td>\n      <td>Middle Eastern Restaurant</td>\n    </tr>\n  </tbody>\n</table>\n</div>"
                    },
                    "metadata": {}
                }
            ]
        },
        {
            "metadata": {},
            "cell_type": "code",
            "source": "Toronto_merged.loc[Toronto_merged['Cluster Labels'] == 5, Toronto_merged.columns[[1] + list(range(5, Toronto_merged.shape[1]))]]",
            "execution_count": 126,
            "outputs": [
                {
                    "output_type": "execute_result",
                    "execution_count": 126,
                    "data": {
                        "text/plain": "Empty DataFrame\nColumns: [Borough, Cluster Labels, 1st Most Common Venue, 2nd Most Common Venue, 3rd Most Common Venue, 4th Most Common Venue, 5th Most Common Venue, 6th Most Common Venue, 7th Most Common Venue, 8th Most Common Venue, 9th Most Common Venue, 10th Most Common Venue]\nIndex: []",
                        "text/html": "<div>\n<style scoped>\n    .dataframe tbody tr th:only-of-type {\n        vertical-align: middle;\n    }\n\n    .dataframe tbody tr th {\n        vertical-align: top;\n    }\n\n    .dataframe thead th {\n        text-align: right;\n    }\n</style>\n<table border=\"1\" class=\"dataframe\">\n  <thead>\n    <tr style=\"text-align: right;\">\n      <th></th>\n      <th>Borough</th>\n      <th>Cluster Labels</th>\n      <th>1st Most Common Venue</th>\n      <th>2nd Most Common Venue</th>\n      <th>3rd Most Common Venue</th>\n      <th>4th Most Common Venue</th>\n      <th>5th Most Common Venue</th>\n      <th>6th Most Common Venue</th>\n      <th>7th Most Common Venue</th>\n      <th>8th Most Common Venue</th>\n      <th>9th Most Common Venue</th>\n      <th>10th Most Common Venue</th>\n    </tr>\n  </thead>\n  <tbody>\n  </tbody>\n</table>\n</div>"
                    },
                    "metadata": {}
                }
            ]
        },
        {
            "metadata": {},
            "cell_type": "code",
            "source": "Toronto_merged.loc[Toronto_merged['Cluster Labels'] == 6, Toronto_merged.columns[[1] + list(range(5, Toronto_merged.shape[1]))]]",
            "execution_count": 127,
            "outputs": [
                {
                    "output_type": "execute_result",
                    "execution_count": 127,
                    "data": {
                        "text/plain": "            Borough  Cluster Labels 1st Most Common Venue  \\\n5         Etobicoke             6.0                   NaN   \n52       North York             6.0                   NaN   \n83  Central Toronto             6.0                   NaN   \n95      Scarborough             6.0                   NaN   \n\n   2nd Most Common Venue 3rd Most Common Venue 4th Most Common Venue  \\\n5                    NaN                   NaN                   NaN   \n52                   NaN                   NaN                   NaN   \n83                   NaN                   NaN                   NaN   \n95                   NaN                   NaN                   NaN   \n\n   5th Most Common Venue 6th Most Common Venue 7th Most Common Venue  \\\n5                    NaN                   NaN                   NaN   \n52                   NaN                   NaN                   NaN   \n83                   NaN                   NaN                   NaN   \n95                   NaN                   NaN                   NaN   \n\n   8th Most Common Venue 9th Most Common Venue 10th Most Common Venue  \n5                    NaN                   NaN                    NaN  \n52                   NaN                   NaN                    NaN  \n83                   NaN                   NaN                    NaN  \n95                   NaN                   NaN                    NaN  ",
                        "text/html": "<div>\n<style scoped>\n    .dataframe tbody tr th:only-of-type {\n        vertical-align: middle;\n    }\n\n    .dataframe tbody tr th {\n        vertical-align: top;\n    }\n\n    .dataframe thead th {\n        text-align: right;\n    }\n</style>\n<table border=\"1\" class=\"dataframe\">\n  <thead>\n    <tr style=\"text-align: right;\">\n      <th></th>\n      <th>Borough</th>\n      <th>Cluster Labels</th>\n      <th>1st Most Common Venue</th>\n      <th>2nd Most Common Venue</th>\n      <th>3rd Most Common Venue</th>\n      <th>4th Most Common Venue</th>\n      <th>5th Most Common Venue</th>\n      <th>6th Most Common Venue</th>\n      <th>7th Most Common Venue</th>\n      <th>8th Most Common Venue</th>\n      <th>9th Most Common Venue</th>\n      <th>10th Most Common Venue</th>\n    </tr>\n  </thead>\n  <tbody>\n    <tr>\n      <th>5</th>\n      <td>Etobicoke</td>\n      <td>6.0</td>\n      <td>NaN</td>\n      <td>NaN</td>\n      <td>NaN</td>\n      <td>NaN</td>\n      <td>NaN</td>\n      <td>NaN</td>\n      <td>NaN</td>\n      <td>NaN</td>\n      <td>NaN</td>\n      <td>NaN</td>\n    </tr>\n    <tr>\n      <th>52</th>\n      <td>North York</td>\n      <td>6.0</td>\n      <td>NaN</td>\n      <td>NaN</td>\n      <td>NaN</td>\n      <td>NaN</td>\n      <td>NaN</td>\n      <td>NaN</td>\n      <td>NaN</td>\n      <td>NaN</td>\n      <td>NaN</td>\n      <td>NaN</td>\n    </tr>\n    <tr>\n      <th>83</th>\n      <td>Central Toronto</td>\n      <td>6.0</td>\n      <td>NaN</td>\n      <td>NaN</td>\n      <td>NaN</td>\n      <td>NaN</td>\n      <td>NaN</td>\n      <td>NaN</td>\n      <td>NaN</td>\n      <td>NaN</td>\n      <td>NaN</td>\n      <td>NaN</td>\n    </tr>\n    <tr>\n      <th>95</th>\n      <td>Scarborough</td>\n      <td>6.0</td>\n      <td>NaN</td>\n      <td>NaN</td>\n      <td>NaN</td>\n      <td>NaN</td>\n      <td>NaN</td>\n      <td>NaN</td>\n      <td>NaN</td>\n      <td>NaN</td>\n      <td>NaN</td>\n      <td>NaN</td>\n    </tr>\n  </tbody>\n</table>\n</div>"
                    },
                    "metadata": {}
                }
            ]
        },
        {
            "metadata": {},
            "cell_type": "markdown",
            "source": "OBERSERVATION: most neighborhoods have siiler makeup of restraunts, cafes and shops. Cluster 1 have baseball fields, yoga studios and mexican restraunts. Cluster 2 have Parks. Cluster 3 has construction and landscaping. Cluster 4 has fast food restraunts. Cluster 5 is empty and Cluster 6 has very poor emenities. "
        }
    ],
    "metadata": {
        "kernelspec": {
            "name": "python3",
            "display_name": "Python 3.7",
            "language": "python"
        },
        "language_info": {
            "name": "python",
            "version": "3.7.10",
            "mimetype": "text/x-python",
            "codemirror_mode": {
                "name": "ipython",
                "version": 3
            },
            "pygments_lexer": "ipython3",
            "nbconvert_exporter": "python",
            "file_extension": ".py"
        }
    },
    "nbformat": 4,
    "nbformat_minor": 1
}